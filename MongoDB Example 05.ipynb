{
 "cells": [
  {
   "cell_type": "code",
   "execution_count": 1,
   "metadata": {},
   "outputs": [],
   "source": [
    "import requests\n",
    "import pprint\n",
    "from bs4 import BeautifulSoup"
   ]
  },
  {
   "cell_type": "code",
   "execution_count": 5,
   "metadata": {},
   "outputs": [],
   "source": [
    "url = 'http://forecast.weather.gov/MapClick.php?lat=37.7772&lon=-122.4168'\n",
    "page = requests.get(url)\n",
    "soup = BeautifulSoup(page.text, 'html.parser')"
   ]
  },
  {
   "cell_type": "code",
   "execution_count": 6,
   "metadata": {},
   "outputs": [],
   "source": [
    "seven_day = soup.find(id=\"seven-day-forecast\")\n",
    "forecast_items = seven_day.find_all(class_ = \"tombstone-container\")"
   ]
  },
  {
   "cell_type": "code",
   "execution_count": 8,
   "metadata": {},
   "outputs": [
    {
     "name": "stdout",
     "output_type": "stream",
     "text": [
      "Today\n",
      "Partly Sunny\n",
      "High: 55 °F\n",
      "-----------\n",
      "Tonight\n",
      "Slight ChanceRain\n",
      "Low: 47 °F\n",
      "-----------\n",
      "Sunday\n",
      "Slight ChanceRain thenMostly Cloudy\n",
      "High: 56 °F\n",
      "-----------\n",
      "SundayNight\n",
      "Slight ChanceRain\n",
      "Low: 49 °F\n",
      "-----------\n",
      "Monday\n",
      "Chance Rain\n",
      "High: 58 °F\n",
      "-----------\n",
      "MondayNight\n",
      "Heavy Rain\n",
      "Low: 52 °F\n",
      "-----------\n",
      "Tuesday\n",
      "Rain Likely\n",
      "High: 60 °F\n",
      "-----------\n",
      "TuesdayNight\n",
      "Rain Likely\n",
      "Low: 54 °F\n",
      "-----------\n",
      "Wednesday\n",
      "Chance Rain\n",
      "High: 61 °F\n",
      "-----------\n"
     ]
    }
   ],
   "source": [
    "for forecast_item in seven_day.find_all(class_ = \"tombstone-container\"):\n",
    "    period = forecast_item.find(class_ = \"period-name\").get_text()\n",
    "    short_desc = forecast_item.find(class_ = \"short-desc\").get_text()\n",
    "    temp = forecast_item.find(class_ = \"temp\").get_text()\n",
    "    \n",
    "    print(period)\n",
    "    print(short_desc)\n",
    "    print(temp)\n",
    "    print('-----------')"
   ]
  },
  {
   "cell_type": "code",
   "execution_count": null,
   "metadata": {},
   "outputs": [],
   "source": []
  }
 ],
 "metadata": {
  "kernelspec": {
   "display_name": "Python 3",
   "language": "python",
   "name": "python3"
  },
  "language_info": {
   "codemirror_mode": {
    "name": "ipython",
    "version": 3
   },
   "file_extension": ".py",
   "mimetype": "text/x-python",
   "name": "python",
   "nbconvert_exporter": "python",
   "pygments_lexer": "ipython3",
   "version": "3.6.5"
  }
 },
 "nbformat": 4,
 "nbformat_minor": 2
}
