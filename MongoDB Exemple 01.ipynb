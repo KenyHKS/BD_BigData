{
 "cells": [
  {
   "cell_type": "code",
   "execution_count": 1,
   "metadata": {},
   "outputs": [],
   "source": [
    "from pymongo import MongoClient\n",
    "from bson.objectid import ObjectId\n",
    "import bson\n",
    "import pprint\n",
    "from bson.son import SON"
   ]
  },
  {
   "cell_type": "code",
   "execution_count": 8,
   "metadata": {},
   "outputs": [
    {
     "name": "stdout",
     "output_type": "stream",
     "text": [
      "{'CONPETENCIA': 201711,\n",
      " 'MUNICIPIO': 'PORTO DE PEDRAS',\n",
      " 'NIS': 16003242400,\n",
      " 'NOME': 'EDIEDJA DA SILVA SANTOS',\n",
      " 'REFERENCIA': 201811,\n",
      " 'SIAFI': 2847,\n",
      " 'UF': 'AL',\n",
      " 'VALOR': 171.0,\n",
      " '_id': ObjectId('5c3e7014c8c6aed0c06e1f09')}\n"
     ]
    },
    {
     "data": {
      "text/plain": [
       "<bound method MongoClient.close of MongoClient(host=['10.52.51.28:27017'], document_class=dict, tz_aware=False, connect=True)>"
      ]
     },
     "execution_count": 8,
     "metadata": {},
     "output_type": "execute_result"
    }
   ],
   "source": [
    "client = MongoClient('10.52.51.28', 27017)\n",
    "document = client.governo.bolsafamilia.find_one({\"_id\": ObjectId(\"5c3e7014c8c6aed0c06e1f09\")})\n",
    "pprint.pprint(document)\n",
    "client.close"
   ]
  },
  {
   "cell_type": "code",
   "execution_count": 14,
   "metadata": {},
   "outputs": [
    {
     "data": {
      "text/plain": [
       "16003242400"
      ]
     },
     "execution_count": 14,
     "metadata": {},
     "output_type": "execute_result"
    }
   ],
   "source": [
    "bson.int64.Int64(16003242400)"
   ]
  },
  {
   "cell_type": "code",
   "execution_count": null,
   "metadata": {},
   "outputs": [],
   "source": []
  }
 ],
 "metadata": {
  "kernelspec": {
   "display_name": "Python 3",
   "language": "python",
   "name": "python3"
  },
  "language_info": {
   "codemirror_mode": {
    "name": "ipython",
    "version": 3
   },
   "file_extension": ".py",
   "mimetype": "text/x-python",
   "name": "python",
   "nbconvert_exporter": "python",
   "pygments_lexer": "ipython3",
   "version": "3.6.5"
  }
 },
 "nbformat": 4,
 "nbformat_minor": 2
}
