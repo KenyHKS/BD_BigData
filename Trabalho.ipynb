{
 "cells": [
  {
   "cell_type": "code",
   "execution_count": 2,
   "metadata": {},
   "outputs": [],
   "source": [
    "from pymongo import MongoClient\n",
    "from bson.objectid import ObjectId\n",
    "import requests\n",
    "import pprint\n",
    "from bs4 import BeautifulSoup\n",
    "import datetime\n",
    "import matplotlib.pyplot as plt"
   ]
  },
  {
   "cell_type": "code",
   "execution_count": 3,
   "metadata": {},
   "outputs": [],
   "source": [
    "client = MongoClient('10.52.51.28', 27017).ourinhos.bitcoin\n",
    "url = 'https://www.infomoney.com.br/cryptos/cotacoes'\n",
    "page = requests.get(url)\n",
    "soup = BeautifulSoup(page.text, 'html.parser')\n",
    "crypt = soup.find_all(class_ = \"ticker-internal\")"
   ]
  },
  {
   "cell_type": "code",
   "execution_count": 4,
   "metadata": {},
   "outputs": [
    {
     "data": {
      "text/plain": [
       "<pymongo.results.DeleteResult at 0x8c27d08>"
      ]
     },
     "execution_count": 4,
     "metadata": {},
     "output_type": "execute_result"
    }
   ],
   "source": [
    "client.delete_many({})"
   ]
  },
  {
   "cell_type": "code",
   "execution_count": 5,
   "metadata": {
    "scrolled": true
   },
   "outputs": [],
   "source": [
    "for coin in crypt:\n",
    "    titulo = str(coin.find(class_ = \"crypto__ticker-item-logo\")).split('title')[1].replace('=\"', '').replace('\"/>', '')\n",
    "    \n",
    "    if (titulo != 'Conheça mais sobre a Xdex'):\n",
    "        dh_pesquisa = datetime.datetime.now()\n",
    "        nm_moeda = coin.find('a').text\n",
    "        pc_percentual = coin.find(class_ = 'ticker-box-positive').text\n",
    "        vr_valor = coin.find(class_ = \"value\").text\n",
    " \n",
    "        insert = {\n",
    "            'dh_pesquisa': dh_pesquisa.strftime(\"%Y-%m-%d %H:%M\"),\n",
    "            'nm_moeda': nm_moeda,\n",
    "            'pc_percentual': float(pc_percentual.replace('%', '').replace('+', '').replace(',', '.')),\n",
    "            'vr_valor': float(vr_valor.split()[1].replace('%', '').replace('+', '').replace('.', '').replace(',', '.'))}\n",
    "    \n",
    "        client.insert_one(insert).inserted_id"
   ]
  },
  {
   "cell_type": "code",
   "execution_count": 7,
   "metadata": {},
   "outputs": [
    {
     "data": {
      "text/plain": [
       "Collection(Database(MongoClient(host=['10.52.51.28:27017'], document_class=dict, tz_aware=False, connect=True), 'ourinhos'), 'bitcoin.close')"
      ]
     },
     "execution_count": 7,
     "metadata": {},
     "output_type": "execute_result"
    }
   ],
   "source": [
    "moeda = []\n",
    "percentual = []\n",
    "valor = []\n",
    "\n",
    "client = MongoClient('10.52.51.28', 27017).ourinhos.bitcoin\n",
    "for document in client.find():\n",
    "    moeda.append(document['nm_moeda'])\n",
    "    percentual.append(document['pc_percentual'])\n",
    "    valor.append(document['vr_valor'])\n",
    "client.close"
   ]
  },
  {
   "cell_type": "code",
   "execution_count": 8,
   "metadata": {},
   "outputs": [
    {
     "data": {
      "text/plain": [
       "['BITCOIN',\n",
       " 'ETHEREUM',\n",
       " 'RIPPLE',\n",
       " 'EOS',\n",
       " 'LITECOIN',\n",
       " 'BITCOIN CASH',\n",
       " 'TETHER',\n",
       " 'STELLAR']"
      ]
     },
     "execution_count": 8,
     "metadata": {},
     "output_type": "execute_result"
    }
   ],
   "source": [
    "moeda"
   ]
  },
  {
   "cell_type": "code",
   "execution_count": null,
   "metadata": {},
   "outputs": [],
   "source": []
  }
 ],
 "metadata": {
  "kernelspec": {
   "display_name": "Python 3",
   "language": "python",
   "name": "python3"
  },
  "language_info": {
   "codemirror_mode": {
    "name": "ipython",
    "version": 3
   },
   "file_extension": ".py",
   "mimetype": "text/x-python",
   "name": "python",
   "nbconvert_exporter": "python",
   "pygments_lexer": "ipython3",
   "version": "3.6.5"
  }
 },
 "nbformat": 4,
 "nbformat_minor": 2
}
