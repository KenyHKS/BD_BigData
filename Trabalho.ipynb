{
 "cells": [
  {
   "cell_type": "code",
   "execution_count": 12,
   "metadata": {},
   "outputs": [],
   "source": [
    "from pymongo import MongoClient\n",
    "from bson.objectid import ObjectId\n",
    "import requests\n",
    "import pprint\n",
    "from bs4 import BeautifulSoup\n",
    "import datetime\n",
    "import matplotlib.pyplot as plt\n",
    "import numpy as np\n",
    "import pandas as pd"
   ]
  },
  {
   "cell_type": "code",
   "execution_count": 3,
   "metadata": {},
   "outputs": [],
   "source": [
    "client = MongoClient('10.52.51.28', 27017).ourinhos.bitcoin\n",
    "url = 'https://www.infomoney.com.br/cryptos/cotacoes'\n",
    "page = requests.get(url)\n",
    "soup = BeautifulSoup(page.text, 'html.parser')\n",
    "crypt = soup.find_all(class_ = \"ticker-internal\")"
   ]
  },
  {
   "cell_type": "code",
   "execution_count": 4,
   "metadata": {},
   "outputs": [
    {
     "data": {
      "text/plain": [
       "<pymongo.results.DeleteResult at 0x8c27d08>"
      ]
     },
     "execution_count": 4,
     "metadata": {},
     "output_type": "execute_result"
    }
   ],
   "source": [
    "client.delete_many({})"
   ]
  },
  {
   "cell_type": "code",
   "execution_count": 5,
   "metadata": {
    "scrolled": true
   },
   "outputs": [],
   "source": [
    "for coin in crypt:\n",
    "    titulo = str(coin.find(class_ = \"crypto__ticker-item-logo\")).split('title')[1].replace('=\"', '').replace('\"/>', '')\n",
    "    \n",
    "    if (titulo != 'Conheça mais sobre a Xdex'):\n",
    "        dh_pesquisa = datetime.datetime.now()\n",
    "        nm_moeda = coin.find('a').text\n",
    "        pc_percentual = coin.find(class_ = 'ticker-box-positive').text\n",
    "        vr_valor = coin.find(class_ = \"value\").text\n",
    " \n",
    "        insert = {\n",
    "            'dh_pesquisa': dh_pesquisa.strftime(\"%Y-%m-%d %H:%M\"),\n",
    "            'nm_moeda': nm_moeda,\n",
    "            'pc_percentual': float(pc_percentual.replace('%', '').replace('+', '').replace(',', '.')),\n",
    "            'vr_valor': float(vr_valor.split()[1].replace('%', '').replace('+', '').replace('.', '').replace(',', '.'))}\n",
    "    \n",
    "        client.insert_one(insert).inserted_id"
   ]
  },
  {
   "cell_type": "code",
   "execution_count": 9,
   "metadata": {},
   "outputs": [
    {
     "data": {
      "text/plain": [
       "Collection(Database(MongoClient(host=['10.52.51.28:27017'], document_class=dict, tz_aware=False, connect=True), 'ourinhos'), 'bitcoin.close')"
      ]
     },
     "execution_count": 9,
     "metadata": {},
     "output_type": "execute_result"
    }
   ],
   "source": [
    "moeda = []\n",
    "\n",
    "client = MongoClient('10.52.51.28', 27017).ourinhos.bitcoin\n",
    "for document in client.find():\n",
    "    moeda.append([document['nm_moeda'], document['pc_percentual'], document['vr_valor']])\n",
    "    #percentual.append(document['pc_percentual'])\n",
    "    #valor.append(document['vr_valor'])\n",
    "client.close"
   ]
  },
  {
   "cell_type": "code",
   "execution_count": 16,
   "metadata": {},
   "outputs": [
    {
     "data": {
      "text/html": [
       "<div>\n",
       "<style scoped>\n",
       "    .dataframe tbody tr th:only-of-type {\n",
       "        vertical-align: middle;\n",
       "    }\n",
       "\n",
       "    .dataframe tbody tr th {\n",
       "        vertical-align: top;\n",
       "    }\n",
       "\n",
       "    .dataframe thead th {\n",
       "        text-align: right;\n",
       "    }\n",
       "</style>\n",
       "<table border=\"1\" class=\"dataframe\">\n",
       "  <thead>\n",
       "    <tr style=\"text-align: right;\">\n",
       "      <th></th>\n",
       "      <th>Percentual</th>\n",
       "      <th>Valor</th>\n",
       "    </tr>\n",
       "    <tr>\n",
       "      <th>Nome</th>\n",
       "      <th></th>\n",
       "      <th></th>\n",
       "    </tr>\n",
       "  </thead>\n",
       "  <tbody>\n",
       "    <tr>\n",
       "      <th>BITCOIN</th>\n",
       "      <td>3.20</td>\n",
       "      <td>15441.00</td>\n",
       "    </tr>\n",
       "    <tr>\n",
       "      <th>ETHEREUM</th>\n",
       "      <td>5.25</td>\n",
       "      <td>587.19</td>\n",
       "    </tr>\n",
       "    <tr>\n",
       "      <th>RIPPLE</th>\n",
       "      <td>2.16</td>\n",
       "      <td>1.23</td>\n",
       "    </tr>\n",
       "    <tr>\n",
       "      <th>EOS</th>\n",
       "      <td>4.91</td>\n",
       "      <td>15.27</td>\n",
       "    </tr>\n",
       "    <tr>\n",
       "      <th>LITECOIN</th>\n",
       "      <td>3.27</td>\n",
       "      <td>191.67</td>\n",
       "    </tr>\n",
       "    <tr>\n",
       "      <th>BITCOIN CASH</th>\n",
       "      <td>2.79</td>\n",
       "      <td>555.90</td>\n",
       "    </tr>\n",
       "    <tr>\n",
       "      <th>TETHER</th>\n",
       "      <td>0.04</td>\n",
       "      <td>3.78</td>\n",
       "    </tr>\n",
       "    <tr>\n",
       "      <th>STELLAR</th>\n",
       "      <td>3.11</td>\n",
       "      <td>0.35</td>\n",
       "    </tr>\n",
       "  </tbody>\n",
       "</table>\n",
       "</div>"
      ],
      "text/plain": [
       "              Percentual     Valor\n",
       "Nome                              \n",
       "BITCOIN             3.20  15441.00\n",
       "ETHEREUM            5.25    587.19\n",
       "RIPPLE              2.16      1.23\n",
       "EOS                 4.91     15.27\n",
       "LITECOIN            3.27    191.67\n",
       "BITCOIN CASH        2.79    555.90\n",
       "TETHER              0.04      3.78\n",
       "STELLAR             3.11      0.35"
      ]
     },
     "execution_count": 16,
     "metadata": {},
     "output_type": "execute_result"
    }
   ],
   "source": [
    "df = pd.DataFrame(moeda, columns='Nome Percentual Valor'.split())\n",
    "df.set_index('Nome',inplace=True)\n",
    "df"
   ]
  },
  {
   "cell_type": "code",
   "execution_count": 35,
   "metadata": {},
   "outputs": [
    {
     "data": {
      "text/html": [
       "<div>\n",
       "<style scoped>\n",
       "    .dataframe tbody tr th:only-of-type {\n",
       "        vertical-align: middle;\n",
       "    }\n",
       "\n",
       "    .dataframe tbody tr th {\n",
       "        vertical-align: top;\n",
       "    }\n",
       "\n",
       "    .dataframe thead th {\n",
       "        text-align: right;\n",
       "    }\n",
       "</style>\n",
       "<table border=\"1\" class=\"dataframe\">\n",
       "  <thead>\n",
       "    <tr style=\"text-align: right;\">\n",
       "      <th></th>\n",
       "      <th>Total</th>\n",
       "      <th>Média</th>\n",
       "      <th>Máximo</th>\n",
       "      <th>Mínimo</th>\n",
       "    </tr>\n",
       "  </thead>\n",
       "  <tbody>\n",
       "    <tr>\n",
       "      <th>0</th>\n",
       "      <td>16796.39</td>\n",
       "      <td>2099.54875</td>\n",
       "      <td>15441.0</td>\n",
       "      <td>0.35</td>\n",
       "    </tr>\n",
       "  </tbody>\n",
       "</table>\n",
       "</div>"
      ],
      "text/plain": [
       "      Total       Média   Máximo  Mínimo\n",
       "0  16796.39  2099.54875  15441.0    0.35"
      ]
     },
     "execution_count": 35,
     "metadata": {},
     "output_type": "execute_result"
    }
   ],
   "source": [
    "vl = [[df['Valor'].sum(), df['Valor'].mean(), df['Valor'].max(), df['Valor'].min()]]\n",
    "dfvl = pd.DataFrame(vl, columns='Total Média Máximo Mínimo'.split())\n",
    "dfvl"
   ]
  },
  {
   "cell_type": "code",
   "execution_count": 41,
   "metadata": {},
   "outputs": [
    {
     "data": {
      "text/html": [
       "<div>\n",
       "<style scoped>\n",
       "    .dataframe tbody tr th:only-of-type {\n",
       "        vertical-align: middle;\n",
       "    }\n",
       "\n",
       "    .dataframe tbody tr th {\n",
       "        vertical-align: top;\n",
       "    }\n",
       "\n",
       "    .dataframe thead th {\n",
       "        text-align: right;\n",
       "    }\n",
       "</style>\n",
       "<table border=\"1\" class=\"dataframe\">\n",
       "  <thead>\n",
       "    <tr style=\"text-align: right;\">\n",
       "      <th></th>\n",
       "      <th>Percentual</th>\n",
       "      <th>Valor</th>\n",
       "    </tr>\n",
       "    <tr>\n",
       "      <th>Nome</th>\n",
       "      <th></th>\n",
       "      <th></th>\n",
       "    </tr>\n",
       "  </thead>\n",
       "  <tbody>\n",
       "    <tr>\n",
       "      <th>BITCOIN</th>\n",
       "      <td>3.20</td>\n",
       "      <td>15441.00</td>\n",
       "    </tr>\n",
       "    <tr>\n",
       "      <th>ETHEREUM</th>\n",
       "      <td>5.25</td>\n",
       "      <td>587.19</td>\n",
       "    </tr>\n",
       "    <tr>\n",
       "      <th>BITCOIN CASH</th>\n",
       "      <td>2.79</td>\n",
       "      <td>555.90</td>\n",
       "    </tr>\n",
       "    <tr>\n",
       "      <th>LITECOIN</th>\n",
       "      <td>3.27</td>\n",
       "      <td>191.67</td>\n",
       "    </tr>\n",
       "    <tr>\n",
       "      <th>EOS</th>\n",
       "      <td>4.91</td>\n",
       "      <td>15.27</td>\n",
       "    </tr>\n",
       "    <tr>\n",
       "      <th>TETHER</th>\n",
       "      <td>0.04</td>\n",
       "      <td>3.78</td>\n",
       "    </tr>\n",
       "    <tr>\n",
       "      <th>RIPPLE</th>\n",
       "      <td>2.16</td>\n",
       "      <td>1.23</td>\n",
       "    </tr>\n",
       "    <tr>\n",
       "      <th>STELLAR</th>\n",
       "      <td>3.11</td>\n",
       "      <td>0.35</td>\n",
       "    </tr>\n",
       "  </tbody>\n",
       "</table>\n",
       "</div>"
      ],
      "text/plain": [
       "              Percentual     Valor\n",
       "Nome                              \n",
       "BITCOIN             3.20  15441.00\n",
       "ETHEREUM            5.25    587.19\n",
       "BITCOIN CASH        2.79    555.90\n",
       "LITECOIN            3.27    191.67\n",
       "EOS                 4.91     15.27\n",
       "TETHER              0.04      3.78\n",
       "RIPPLE              2.16      1.23\n",
       "STELLAR             3.11      0.35"
      ]
     },
     "execution_count": 41,
     "metadata": {},
     "output_type": "execute_result"
    }
   ],
   "source": [
    "df.sort_values(['Valor'], ascending = False)"
   ]
  },
  {
   "cell_type": "code",
   "execution_count": 43,
   "metadata": {},
   "outputs": [
    {
     "data": {
      "text/html": [
       "<div>\n",
       "<style scoped>\n",
       "    .dataframe tbody tr th:only-of-type {\n",
       "        vertical-align: middle;\n",
       "    }\n",
       "\n",
       "    .dataframe tbody tr th {\n",
       "        vertical-align: top;\n",
       "    }\n",
       "\n",
       "    .dataframe thead th {\n",
       "        text-align: right;\n",
       "    }\n",
       "</style>\n",
       "<table border=\"1\" class=\"dataframe\">\n",
       "  <thead>\n",
       "    <tr style=\"text-align: right;\">\n",
       "      <th></th>\n",
       "      <th>Percentual</th>\n",
       "      <th>Valor</th>\n",
       "    </tr>\n",
       "    <tr>\n",
       "      <th>Nome</th>\n",
       "      <th></th>\n",
       "      <th></th>\n",
       "    </tr>\n",
       "  </thead>\n",
       "  <tbody>\n",
       "    <tr>\n",
       "      <th>ETHEREUM</th>\n",
       "      <td>5.25</td>\n",
       "      <td>587.19</td>\n",
       "    </tr>\n",
       "    <tr>\n",
       "      <th>EOS</th>\n",
       "      <td>4.91</td>\n",
       "      <td>15.27</td>\n",
       "    </tr>\n",
       "    <tr>\n",
       "      <th>LITECOIN</th>\n",
       "      <td>3.27</td>\n",
       "      <td>191.67</td>\n",
       "    </tr>\n",
       "    <tr>\n",
       "      <th>BITCOIN</th>\n",
       "      <td>3.20</td>\n",
       "      <td>15441.00</td>\n",
       "    </tr>\n",
       "    <tr>\n",
       "      <th>STELLAR</th>\n",
       "      <td>3.11</td>\n",
       "      <td>0.35</td>\n",
       "    </tr>\n",
       "    <tr>\n",
       "      <th>BITCOIN CASH</th>\n",
       "      <td>2.79</td>\n",
       "      <td>555.90</td>\n",
       "    </tr>\n",
       "    <tr>\n",
       "      <th>RIPPLE</th>\n",
       "      <td>2.16</td>\n",
       "      <td>1.23</td>\n",
       "    </tr>\n",
       "    <tr>\n",
       "      <th>TETHER</th>\n",
       "      <td>0.04</td>\n",
       "      <td>3.78</td>\n",
       "    </tr>\n",
       "  </tbody>\n",
       "</table>\n",
       "</div>"
      ],
      "text/plain": [
       "              Percentual     Valor\n",
       "Nome                              \n",
       "ETHEREUM            5.25    587.19\n",
       "EOS                 4.91     15.27\n",
       "LITECOIN            3.27    191.67\n",
       "BITCOIN             3.20  15441.00\n",
       "STELLAR             3.11      0.35\n",
       "BITCOIN CASH        2.79    555.90\n",
       "RIPPLE              2.16      1.23\n",
       "TETHER              0.04      3.78"
      ]
     },
     "execution_count": 43,
     "metadata": {},
     "output_type": "execute_result"
    }
   ],
   "source": [
    "df.sort_values(['Percentual'], ascending = False)"
   ]
  }
 ],
 "metadata": {
  "kernelspec": {
   "display_name": "Python 3",
   "language": "python",
   "name": "python3"
  },
  "language_info": {
   "codemirror_mode": {
    "name": "ipython",
    "version": 3
   },
   "file_extension": ".py",
   "mimetype": "text/x-python",
   "name": "python",
   "nbconvert_exporter": "python",
   "pygments_lexer": "ipython3",
   "version": "3.6.5"
  }
 },
 "nbformat": 4,
 "nbformat_minor": 2
}
