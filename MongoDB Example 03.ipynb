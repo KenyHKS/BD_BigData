{
 "cells": [
  {
   "cell_type": "code",
   "execution_count": 2,
   "metadata": {},
   "outputs": [],
   "source": [
    "import requests\n",
    "import pprint\n",
    "from bs4 import BeautifulSoup"
   ]
  },
  {
   "cell_type": "code",
   "execution_count": 3,
   "metadata": {},
   "outputs": [],
   "source": [
    "url = 'https://assets.digitalocean.com/articles/eng_python/beautiful-soup/mockturtle.html'"
   ]
  },
  {
   "cell_type": "code",
   "execution_count": 4,
   "metadata": {},
   "outputs": [],
   "source": [
    "page = requests.get(url)"
   ]
  },
  {
   "cell_type": "code",
   "execution_count": 6,
   "metadata": {},
   "outputs": [],
   "source": [
    "soup = BeautifulSoup(page.text, 'html.parser')"
   ]
  },
  {
   "cell_type": "code",
   "execution_count": 7,
   "metadata": {},
   "outputs": [
    {
     "name": "stdout",
     "output_type": "stream",
     "text": [
      "[<p class=\"chorus\" id=\"second\">Beau--ootiful Soo--oop!<br/>\n",
      "  Beau--ootiful Soo--oop!<br/>\n",
      "  Soo--oop of the e--e--evening,<br/>\n",
      "  Beautiful, beautiful Soup!<br/></p>, <p class=\"chorus\" id=\"fourth\">Beau--ootiful Soo--oop!<br/>\n",
      "  Beau--ootiful Soo--oop!<br/>\n",
      "  Soo--oop of the e--e--evening,<br/>\n",
      "  Beautiful, beauti--FUL SOUP!<br/></p>]\n"
     ]
    }
   ],
   "source": [
    "print(soup.find_all(class_ = 'chorus'))"
   ]
  },
  {
   "cell_type": "code",
   "execution_count": null,
   "metadata": {},
   "outputs": [],
   "source": []
  }
 ],
 "metadata": {
  "kernelspec": {
   "display_name": "Python 3",
   "language": "python",
   "name": "python3"
  },
  "language_info": {
   "codemirror_mode": {
    "name": "ipython",
    "version": 3
   },
   "file_extension": ".py",
   "mimetype": "text/x-python",
   "name": "python",
   "nbconvert_exporter": "python",
   "pygments_lexer": "ipython3",
   "version": "3.6.5"
  }
 },
 "nbformat": 4,
 "nbformat_minor": 2
}
